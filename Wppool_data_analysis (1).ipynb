{
  "nbformat": 4,
  "nbformat_minor": 0,
  "metadata": {
    "colab": {
      "provenance": []
    },
    "kernelspec": {
      "name": "python3",
      "display_name": "Python 3"
    },
    "language_info": {
      "name": "python"
    }
  },
  "cells": [
    {
      "cell_type": "code",
      "execution_count": 38,
      "metadata": {
        "colab": {
          "base_uri": "https://localhost:8080/"
        },
        "id": "DjOOb8rV6-IF",
        "outputId": "cd250b4f-f28c-454d-a602-7259fcf1cde4"
      },
      "outputs": [
        {
          "output_type": "stream",
          "name": "stdout",
          "text": [
            "Drive already mounted at /content/drive; to attempt to forcibly remount, call drive.mount(\"/content/drive\", force_remount=True).\n"
          ]
        }
      ],
      "source": [
        "from google.colab import drive\n",
        "drive.mount('/content/drive')"
      ]
    },
    {
      "cell_type": "code",
      "source": [
        "import pandas as pd\n",
        "import numpy as np\n",
        "import matplotlib.pyplot as plt\n",
        "import seaborn as sns"
      ],
      "metadata": {
        "id": "v_W2ehYC7QCf"
      },
      "execution_count": 39,
      "outputs": []
    },
    {
      "cell_type": "markdown",
      "source": [
        "**Load Data**"
      ],
      "metadata": {
        "id": "UPCF1zBC7yh_"
      }
    },
    {
      "cell_type": "code",
      "source": [
        "df = pd.read_csv(\"/content/wppool_growth_data_sample_20k (1).csv\")"
      ],
      "metadata": {
        "id": "FocaIwfl7nh3"
      },
      "execution_count": 40,
      "outputs": []
    },
    {
      "cell_type": "code",
      "source": [
        "print(df)"
      ],
      "metadata": {
        "colab": {
          "base_uri": "https://localhost:8080/"
        },
        "id": "rNmLFWhK7xoX",
        "outputId": "7df92156-ad3f-473d-b0c0-bf0ade2e0e51"
      },
      "execution_count": 41,
      "outputs": [
        {
          "output_type": "stream",
          "name": "stdout",
          "text": [
            "       user_id install_date last_active_date subscription_type    country  \\\n",
            "0            1    6/29/2023        7/12/2023              Free         UK   \n",
            "1            2    4/10/2023        7/25/2023              Free      India   \n",
            "2            3   10/25/2023        12/7/2023              Free        USA   \n",
            "3            4    8/26/2023        11/9/2023               Pro     Canada   \n",
            "4            5    5/14/2023       11/22/2023              Free         UK   \n",
            "...        ...          ...              ...               ...        ...   \n",
            "19995    19996     5/6/2023        9/29/2023              Free        USA   \n",
            "19996    19997     9/4/2023        9/21/2023               Pro    Germany   \n",
            "19997    19998     4/1/2023        6/14/2023              Free      India   \n",
            "19998    19999    1/28/2023       12/26/2023               Pro  Australia   \n",
            "19999    20000   12/31/2023         1/1/2024              Free     Canada   \n",
            "\n",
            "       total_sessions  page_views  download_clicks  activation_status  \\\n",
            "0                   3          15                1                  1   \n",
            "1                 133         665                0                  1   \n",
            "2                  53         106                0                  1   \n",
            "3                 242         242                0                  1   \n",
            "4                  12          48                0                  1   \n",
            "...               ...         ...              ...                ...   \n",
            "19995             100         300                0                  1   \n",
            "19996              93         372                0                  1   \n",
            "19997              37         185                0                  1   \n",
            "19998              99         198                0                  1   \n",
            "19999             141         282                0                  1   \n",
            "\n",
            "       days_active pro_upgrade_date   plan_type  monthly_revenue  churned  \n",
            "0               13              NaN         NaN                0        1  \n",
            "1              106              NaN         NaN                0        0  \n",
            "2               43              NaN         NaN                0        0  \n",
            "3               75        11/9/2023       Basic               49        0  \n",
            "4              192              NaN         NaN                0        0  \n",
            "...            ...              ...         ...              ...      ...  \n",
            "19995          146              NaN         NaN                0        0  \n",
            "19996           17        9/21/2023       Basic               49        1  \n",
            "19997           74              NaN         NaN                0        0  \n",
            "19998          332       12/26/2023  Enterprise               29        0  \n",
            "19999            1              NaN         NaN                0        1  \n",
            "\n",
            "[20000 rows x 14 columns]\n"
          ]
        }
      ]
    },
    {
      "cell_type": "code",
      "source": [
        "df.isnull().sum()"
      ],
      "metadata": {
        "colab": {
          "base_uri": "https://localhost:8080/",
          "height": 523
        },
        "id": "ueIHWIq58Fh_",
        "outputId": "38e3a6c2-8bfa-4819-ea99-b21fba931663"
      },
      "execution_count": 42,
      "outputs": [
        {
          "output_type": "execute_result",
          "data": {
            "text/plain": [
              "user_id                  0\n",
              "install_date             0\n",
              "last_active_date         0\n",
              "subscription_type        0\n",
              "country                  0\n",
              "total_sessions           0\n",
              "page_views               0\n",
              "download_clicks          0\n",
              "activation_status        0\n",
              "days_active              0\n",
              "pro_upgrade_date     15971\n",
              "plan_type            15971\n",
              "monthly_revenue          0\n",
              "churned                  0\n",
              "dtype: int64"
            ],
            "text/html": [
              "<div>\n",
              "<style scoped>\n",
              "    .dataframe tbody tr th:only-of-type {\n",
              "        vertical-align: middle;\n",
              "    }\n",
              "\n",
              "    .dataframe tbody tr th {\n",
              "        vertical-align: top;\n",
              "    }\n",
              "\n",
              "    .dataframe thead th {\n",
              "        text-align: right;\n",
              "    }\n",
              "</style>\n",
              "<table border=\"1\" class=\"dataframe\">\n",
              "  <thead>\n",
              "    <tr style=\"text-align: right;\">\n",
              "      <th></th>\n",
              "      <th>0</th>\n",
              "    </tr>\n",
              "  </thead>\n",
              "  <tbody>\n",
              "    <tr>\n",
              "      <th>user_id</th>\n",
              "      <td>0</td>\n",
              "    </tr>\n",
              "    <tr>\n",
              "      <th>install_date</th>\n",
              "      <td>0</td>\n",
              "    </tr>\n",
              "    <tr>\n",
              "      <th>last_active_date</th>\n",
              "      <td>0</td>\n",
              "    </tr>\n",
              "    <tr>\n",
              "      <th>subscription_type</th>\n",
              "      <td>0</td>\n",
              "    </tr>\n",
              "    <tr>\n",
              "      <th>country</th>\n",
              "      <td>0</td>\n",
              "    </tr>\n",
              "    <tr>\n",
              "      <th>total_sessions</th>\n",
              "      <td>0</td>\n",
              "    </tr>\n",
              "    <tr>\n",
              "      <th>page_views</th>\n",
              "      <td>0</td>\n",
              "    </tr>\n",
              "    <tr>\n",
              "      <th>download_clicks</th>\n",
              "      <td>0</td>\n",
              "    </tr>\n",
              "    <tr>\n",
              "      <th>activation_status</th>\n",
              "      <td>0</td>\n",
              "    </tr>\n",
              "    <tr>\n",
              "      <th>days_active</th>\n",
              "      <td>0</td>\n",
              "    </tr>\n",
              "    <tr>\n",
              "      <th>pro_upgrade_date</th>\n",
              "      <td>15971</td>\n",
              "    </tr>\n",
              "    <tr>\n",
              "      <th>plan_type</th>\n",
              "      <td>15971</td>\n",
              "    </tr>\n",
              "    <tr>\n",
              "      <th>monthly_revenue</th>\n",
              "      <td>0</td>\n",
              "    </tr>\n",
              "    <tr>\n",
              "      <th>churned</th>\n",
              "      <td>0</td>\n",
              "    </tr>\n",
              "  </tbody>\n",
              "</table>\n",
              "</div><br><label><b>dtype:</b> int64</label>"
            ]
          },
          "metadata": {},
          "execution_count": 42
        }
      ]
    },
    {
      "cell_type": "code",
      "source": [
        "df['install_date'] = pd.to_datetime(df['install_date'])\n",
        "df['last_active_date'] = pd.to_datetime(df['last_active_date'])\n",
        "df['pro_upgrade_date'] = pd.to_datetime(df['pro_upgrade_date'])"
      ],
      "metadata": {
        "id": "q3A394_r8ipA"
      },
      "execution_count": 43,
      "outputs": []
    },
    {
      "cell_type": "code",
      "source": [
        "df[\"pro_upgrade_date\"].fillna(\"N/A\", inplace=True)\n",
        "df[\"plan_type\"].fillna(\"Free\", inplace=True)"
      ],
      "metadata": {
        "colab": {
          "base_uri": "https://localhost:8080/"
        },
        "id": "WNQZhE-o_cNP",
        "outputId": "1befa70e-0918-4814-8547-d432d5ab467a"
      },
      "execution_count": 44,
      "outputs": [
        {
          "output_type": "stream",
          "name": "stderr",
          "text": [
            "<ipython-input-44-f99a3810ef5f>:1: FutureWarning: A value is trying to be set on a copy of a DataFrame or Series through chained assignment using an inplace method.\n",
            "The behavior will change in pandas 3.0. This inplace method will never work because the intermediate object on which we are setting values always behaves as a copy.\n",
            "\n",
            "For example, when doing 'df[col].method(value, inplace=True)', try using 'df.method({col: value}, inplace=True)' or df[col] = df[col].method(value) instead, to perform the operation inplace on the original object.\n",
            "\n",
            "\n",
            "  df[\"pro_upgrade_date\"].fillna(\"N/A\", inplace=True)\n",
            "<ipython-input-44-f99a3810ef5f>:1: FutureWarning: Setting an item of incompatible dtype is deprecated and will raise an error in a future version of pandas. Value 'N/A' has dtype incompatible with datetime64[ns], please explicitly cast to a compatible dtype first.\n",
            "  df[\"pro_upgrade_date\"].fillna(\"N/A\", inplace=True)\n",
            "<ipython-input-44-f99a3810ef5f>:2: FutureWarning: A value is trying to be set on a copy of a DataFrame or Series through chained assignment using an inplace method.\n",
            "The behavior will change in pandas 3.0. This inplace method will never work because the intermediate object on which we are setting values always behaves as a copy.\n",
            "\n",
            "For example, when doing 'df[col].method(value, inplace=True)', try using 'df.method({col: value}, inplace=True)' or df[col] = df[col].method(value) instead, to perform the operation inplace on the original object.\n",
            "\n",
            "\n",
            "  df[\"plan_type\"].fillna(\"Free\", inplace=True)\n"
          ]
        }
      ]
    },
    {
      "cell_type": "code",
      "source": [
        "print(df.head())"
      ],
      "metadata": {
        "colab": {
          "base_uri": "https://localhost:8080/"
        },
        "id": "uxYmcTW38zd_",
        "outputId": "d5b9e672-8ef9-4a7a-fcde-216b7ec2ae79"
      },
      "execution_count": 45,
      "outputs": [
        {
          "output_type": "stream",
          "name": "stdout",
          "text": [
            "   user_id install_date last_active_date subscription_type country  \\\n",
            "0        1   2023-06-29       2023-07-12              Free      UK   \n",
            "1        2   2023-04-10       2023-07-25              Free   India   \n",
            "2        3   2023-10-25       2023-12-07              Free     USA   \n",
            "3        4   2023-08-26       2023-11-09               Pro  Canada   \n",
            "4        5   2023-05-14       2023-11-22              Free      UK   \n",
            "\n",
            "   total_sessions  page_views  download_clicks  activation_status  \\\n",
            "0               3          15                1                  1   \n",
            "1             133         665                0                  1   \n",
            "2              53         106                0                  1   \n",
            "3             242         242                0                  1   \n",
            "4              12          48                0                  1   \n",
            "\n",
            "   days_active     pro_upgrade_date plan_type  monthly_revenue  churned  \n",
            "0           13                  N/A      Free                0        1  \n",
            "1          106                  N/A      Free                0        0  \n",
            "2           43                  N/A      Free                0        0  \n",
            "3           75  2023-11-09 00:00:00     Basic               49        0  \n",
            "4          192                  N/A      Free                0        0  \n"
          ]
        }
      ]
    },
    {
      "cell_type": "code",
      "source": [
        "df.isnull().sum()"
      ],
      "metadata": {
        "colab": {
          "base_uri": "https://localhost:8080/",
          "height": 523
        },
        "id": "aAimgOAw89nf",
        "outputId": "e30f4f53-36a4-42ba-9728-68475e832642"
      },
      "execution_count": 46,
      "outputs": [
        {
          "output_type": "execute_result",
          "data": {
            "text/plain": [
              "user_id              0\n",
              "install_date         0\n",
              "last_active_date     0\n",
              "subscription_type    0\n",
              "country              0\n",
              "total_sessions       0\n",
              "page_views           0\n",
              "download_clicks      0\n",
              "activation_status    0\n",
              "days_active          0\n",
              "pro_upgrade_date     0\n",
              "plan_type            0\n",
              "monthly_revenue      0\n",
              "churned              0\n",
              "dtype: int64"
            ],
            "text/html": [
              "<div>\n",
              "<style scoped>\n",
              "    .dataframe tbody tr th:only-of-type {\n",
              "        vertical-align: middle;\n",
              "    }\n",
              "\n",
              "    .dataframe tbody tr th {\n",
              "        vertical-align: top;\n",
              "    }\n",
              "\n",
              "    .dataframe thead th {\n",
              "        text-align: right;\n",
              "    }\n",
              "</style>\n",
              "<table border=\"1\" class=\"dataframe\">\n",
              "  <thead>\n",
              "    <tr style=\"text-align: right;\">\n",
              "      <th></th>\n",
              "      <th>0</th>\n",
              "    </tr>\n",
              "  </thead>\n",
              "  <tbody>\n",
              "    <tr>\n",
              "      <th>user_id</th>\n",
              "      <td>0</td>\n",
              "    </tr>\n",
              "    <tr>\n",
              "      <th>install_date</th>\n",
              "      <td>0</td>\n",
              "    </tr>\n",
              "    <tr>\n",
              "      <th>last_active_date</th>\n",
              "      <td>0</td>\n",
              "    </tr>\n",
              "    <tr>\n",
              "      <th>subscription_type</th>\n",
              "      <td>0</td>\n",
              "    </tr>\n",
              "    <tr>\n",
              "      <th>country</th>\n",
              "      <td>0</td>\n",
              "    </tr>\n",
              "    <tr>\n",
              "      <th>total_sessions</th>\n",
              "      <td>0</td>\n",
              "    </tr>\n",
              "    <tr>\n",
              "      <th>page_views</th>\n",
              "      <td>0</td>\n",
              "    </tr>\n",
              "    <tr>\n",
              "      <th>download_clicks</th>\n",
              "      <td>0</td>\n",
              "    </tr>\n",
              "    <tr>\n",
              "      <th>activation_status</th>\n",
              "      <td>0</td>\n",
              "    </tr>\n",
              "    <tr>\n",
              "      <th>days_active</th>\n",
              "      <td>0</td>\n",
              "    </tr>\n",
              "    <tr>\n",
              "      <th>pro_upgrade_date</th>\n",
              "      <td>0</td>\n",
              "    </tr>\n",
              "    <tr>\n",
              "      <th>plan_type</th>\n",
              "      <td>0</td>\n",
              "    </tr>\n",
              "    <tr>\n",
              "      <th>monthly_revenue</th>\n",
              "      <td>0</td>\n",
              "    </tr>\n",
              "    <tr>\n",
              "      <th>churned</th>\n",
              "      <td>0</td>\n",
              "    </tr>\n",
              "  </tbody>\n",
              "</table>\n",
              "</div><br><label><b>dtype:</b> int64</label>"
            ]
          },
          "metadata": {},
          "execution_count": 46
        }
      ]
    },
    {
      "cell_type": "code",
      "source": [
        "df = df.drop_duplicates('user_id')"
      ],
      "metadata": {
        "id": "3ulpuglK-ISX"
      },
      "execution_count": 47,
      "outputs": []
    },
    {
      "cell_type": "code",
      "source": [
        "duplicate_count = df.duplicated().sum()\n",
        "print(f\"Duplicate Rows: {duplicate_count}\")"
      ],
      "metadata": {
        "colab": {
          "base_uri": "https://localhost:8080/"
        },
        "id": "tTXifaIV_QsQ",
        "outputId": "0a01ee26-1485-466e-eb93-6d85def08b6c"
      },
      "execution_count": 48,
      "outputs": [
        {
          "output_type": "stream",
          "name": "stdout",
          "text": [
            "Duplicate Rows: 0\n"
          ]
        }
      ]
    },
    {
      "cell_type": "code",
      "source": [
        "df.head()"
      ],
      "metadata": {
        "colab": {
          "base_uri": "https://localhost:8080/",
          "height": 206
        },
        "id": "zso4QAXY-Ns_",
        "outputId": "e81e76ee-7ac6-4772-ffa8-9fa7c9d771b7"
      },
      "execution_count": 49,
      "outputs": [
        {
          "output_type": "execute_result",
          "data": {
            "text/plain": [
              "   user_id install_date last_active_date subscription_type country  \\\n",
              "0        1   2023-06-29       2023-07-12              Free      UK   \n",
              "1        2   2023-04-10       2023-07-25              Free   India   \n",
              "2        3   2023-10-25       2023-12-07              Free     USA   \n",
              "3        4   2023-08-26       2023-11-09               Pro  Canada   \n",
              "4        5   2023-05-14       2023-11-22              Free      UK   \n",
              "\n",
              "   total_sessions  page_views  download_clicks  activation_status  \\\n",
              "0               3          15                1                  1   \n",
              "1             133         665                0                  1   \n",
              "2              53         106                0                  1   \n",
              "3             242         242                0                  1   \n",
              "4              12          48                0                  1   \n",
              "\n",
              "   days_active     pro_upgrade_date plan_type  monthly_revenue  churned  \n",
              "0           13                  N/A      Free                0        1  \n",
              "1          106                  N/A      Free                0        0  \n",
              "2           43                  N/A      Free                0        0  \n",
              "3           75  2023-11-09 00:00:00     Basic               49        0  \n",
              "4          192                  N/A      Free                0        0  "
            ],
            "text/html": [
              "\n",
              "  <div id=\"df-18a7b644-ccb3-4f6e-b0cd-004e06c58ff3\" class=\"colab-df-container\">\n",
              "    <div>\n",
              "<style scoped>\n",
              "    .dataframe tbody tr th:only-of-type {\n",
              "        vertical-align: middle;\n",
              "    }\n",
              "\n",
              "    .dataframe tbody tr th {\n",
              "        vertical-align: top;\n",
              "    }\n",
              "\n",
              "    .dataframe thead th {\n",
              "        text-align: right;\n",
              "    }\n",
              "</style>\n",
              "<table border=\"1\" class=\"dataframe\">\n",
              "  <thead>\n",
              "    <tr style=\"text-align: right;\">\n",
              "      <th></th>\n",
              "      <th>user_id</th>\n",
              "      <th>install_date</th>\n",
              "      <th>last_active_date</th>\n",
              "      <th>subscription_type</th>\n",
              "      <th>country</th>\n",
              "      <th>total_sessions</th>\n",
              "      <th>page_views</th>\n",
              "      <th>download_clicks</th>\n",
              "      <th>activation_status</th>\n",
              "      <th>days_active</th>\n",
              "      <th>pro_upgrade_date</th>\n",
              "      <th>plan_type</th>\n",
              "      <th>monthly_revenue</th>\n",
              "      <th>churned</th>\n",
              "    </tr>\n",
              "  </thead>\n",
              "  <tbody>\n",
              "    <tr>\n",
              "      <th>0</th>\n",
              "      <td>1</td>\n",
              "      <td>2023-06-29</td>\n",
              "      <td>2023-07-12</td>\n",
              "      <td>Free</td>\n",
              "      <td>UK</td>\n",
              "      <td>3</td>\n",
              "      <td>15</td>\n",
              "      <td>1</td>\n",
              "      <td>1</td>\n",
              "      <td>13</td>\n",
              "      <td>N/A</td>\n",
              "      <td>Free</td>\n",
              "      <td>0</td>\n",
              "      <td>1</td>\n",
              "    </tr>\n",
              "    <tr>\n",
              "      <th>1</th>\n",
              "      <td>2</td>\n",
              "      <td>2023-04-10</td>\n",
              "      <td>2023-07-25</td>\n",
              "      <td>Free</td>\n",
              "      <td>India</td>\n",
              "      <td>133</td>\n",
              "      <td>665</td>\n",
              "      <td>0</td>\n",
              "      <td>1</td>\n",
              "      <td>106</td>\n",
              "      <td>N/A</td>\n",
              "      <td>Free</td>\n",
              "      <td>0</td>\n",
              "      <td>0</td>\n",
              "    </tr>\n",
              "    <tr>\n",
              "      <th>2</th>\n",
              "      <td>3</td>\n",
              "      <td>2023-10-25</td>\n",
              "      <td>2023-12-07</td>\n",
              "      <td>Free</td>\n",
              "      <td>USA</td>\n",
              "      <td>53</td>\n",
              "      <td>106</td>\n",
              "      <td>0</td>\n",
              "      <td>1</td>\n",
              "      <td>43</td>\n",
              "      <td>N/A</td>\n",
              "      <td>Free</td>\n",
              "      <td>0</td>\n",
              "      <td>0</td>\n",
              "    </tr>\n",
              "    <tr>\n",
              "      <th>3</th>\n",
              "      <td>4</td>\n",
              "      <td>2023-08-26</td>\n",
              "      <td>2023-11-09</td>\n",
              "      <td>Pro</td>\n",
              "      <td>Canada</td>\n",
              "      <td>242</td>\n",
              "      <td>242</td>\n",
              "      <td>0</td>\n",
              "      <td>1</td>\n",
              "      <td>75</td>\n",
              "      <td>2023-11-09 00:00:00</td>\n",
              "      <td>Basic</td>\n",
              "      <td>49</td>\n",
              "      <td>0</td>\n",
              "    </tr>\n",
              "    <tr>\n",
              "      <th>4</th>\n",
              "      <td>5</td>\n",
              "      <td>2023-05-14</td>\n",
              "      <td>2023-11-22</td>\n",
              "      <td>Free</td>\n",
              "      <td>UK</td>\n",
              "      <td>12</td>\n",
              "      <td>48</td>\n",
              "      <td>0</td>\n",
              "      <td>1</td>\n",
              "      <td>192</td>\n",
              "      <td>N/A</td>\n",
              "      <td>Free</td>\n",
              "      <td>0</td>\n",
              "      <td>0</td>\n",
              "    </tr>\n",
              "  </tbody>\n",
              "</table>\n",
              "</div>\n",
              "    <div class=\"colab-df-buttons\">\n",
              "\n",
              "  <div class=\"colab-df-container\">\n",
              "    <button class=\"colab-df-convert\" onclick=\"convertToInteractive('df-18a7b644-ccb3-4f6e-b0cd-004e06c58ff3')\"\n",
              "            title=\"Convert this dataframe to an interactive table.\"\n",
              "            style=\"display:none;\">\n",
              "\n",
              "  <svg xmlns=\"http://www.w3.org/2000/svg\" height=\"24px\" viewBox=\"0 -960 960 960\">\n",
              "    <path d=\"M120-120v-720h720v720H120Zm60-500h600v-160H180v160Zm220 220h160v-160H400v160Zm0 220h160v-160H400v160ZM180-400h160v-160H180v160Zm440 0h160v-160H620v160ZM180-180h160v-160H180v160Zm440 0h160v-160H620v160Z\"/>\n",
              "  </svg>\n",
              "    </button>\n",
              "\n",
              "  <style>\n",
              "    .colab-df-container {\n",
              "      display:flex;\n",
              "      gap: 12px;\n",
              "    }\n",
              "\n",
              "    .colab-df-convert {\n",
              "      background-color: #E8F0FE;\n",
              "      border: none;\n",
              "      border-radius: 50%;\n",
              "      cursor: pointer;\n",
              "      display: none;\n",
              "      fill: #1967D2;\n",
              "      height: 32px;\n",
              "      padding: 0 0 0 0;\n",
              "      width: 32px;\n",
              "    }\n",
              "\n",
              "    .colab-df-convert:hover {\n",
              "      background-color: #E2EBFA;\n",
              "      box-shadow: 0px 1px 2px rgba(60, 64, 67, 0.3), 0px 1px 3px 1px rgba(60, 64, 67, 0.15);\n",
              "      fill: #174EA6;\n",
              "    }\n",
              "\n",
              "    .colab-df-buttons div {\n",
              "      margin-bottom: 4px;\n",
              "    }\n",
              "\n",
              "    [theme=dark] .colab-df-convert {\n",
              "      background-color: #3B4455;\n",
              "      fill: #D2E3FC;\n",
              "    }\n",
              "\n",
              "    [theme=dark] .colab-df-convert:hover {\n",
              "      background-color: #434B5C;\n",
              "      box-shadow: 0px 1px 3px 1px rgba(0, 0, 0, 0.15);\n",
              "      filter: drop-shadow(0px 1px 2px rgba(0, 0, 0, 0.3));\n",
              "      fill: #FFFFFF;\n",
              "    }\n",
              "  </style>\n",
              "\n",
              "    <script>\n",
              "      const buttonEl =\n",
              "        document.querySelector('#df-18a7b644-ccb3-4f6e-b0cd-004e06c58ff3 button.colab-df-convert');\n",
              "      buttonEl.style.display =\n",
              "        google.colab.kernel.accessAllowed ? 'block' : 'none';\n",
              "\n",
              "      async function convertToInteractive(key) {\n",
              "        const element = document.querySelector('#df-18a7b644-ccb3-4f6e-b0cd-004e06c58ff3');\n",
              "        const dataTable =\n",
              "          await google.colab.kernel.invokeFunction('convertToInteractive',\n",
              "                                                    [key], {});\n",
              "        if (!dataTable) return;\n",
              "\n",
              "        const docLinkHtml = 'Like what you see? Visit the ' +\n",
              "          '<a target=\"_blank\" href=https://colab.research.google.com/notebooks/data_table.ipynb>data table notebook</a>'\n",
              "          + ' to learn more about interactive tables.';\n",
              "        element.innerHTML = '';\n",
              "        dataTable['output_type'] = 'display_data';\n",
              "        await google.colab.output.renderOutput(dataTable, element);\n",
              "        const docLink = document.createElement('div');\n",
              "        docLink.innerHTML = docLinkHtml;\n",
              "        element.appendChild(docLink);\n",
              "      }\n",
              "    </script>\n",
              "  </div>\n",
              "\n",
              "\n",
              "<div id=\"df-5446c2bb-d387-41e5-8cec-080f495409ce\">\n",
              "  <button class=\"colab-df-quickchart\" onclick=\"quickchart('df-5446c2bb-d387-41e5-8cec-080f495409ce')\"\n",
              "            title=\"Suggest charts\"\n",
              "            style=\"display:none;\">\n",
              "\n",
              "<svg xmlns=\"http://www.w3.org/2000/svg\" height=\"24px\"viewBox=\"0 0 24 24\"\n",
              "     width=\"24px\">\n",
              "    <g>\n",
              "        <path d=\"M19 3H5c-1.1 0-2 .9-2 2v14c0 1.1.9 2 2 2h14c1.1 0 2-.9 2-2V5c0-1.1-.9-2-2-2zM9 17H7v-7h2v7zm4 0h-2V7h2v10zm4 0h-2v-4h2v4z\"/>\n",
              "    </g>\n",
              "</svg>\n",
              "  </button>\n",
              "\n",
              "<style>\n",
              "  .colab-df-quickchart {\n",
              "      --bg-color: #E8F0FE;\n",
              "      --fill-color: #1967D2;\n",
              "      --hover-bg-color: #E2EBFA;\n",
              "      --hover-fill-color: #174EA6;\n",
              "      --disabled-fill-color: #AAA;\n",
              "      --disabled-bg-color: #DDD;\n",
              "  }\n",
              "\n",
              "  [theme=dark] .colab-df-quickchart {\n",
              "      --bg-color: #3B4455;\n",
              "      --fill-color: #D2E3FC;\n",
              "      --hover-bg-color: #434B5C;\n",
              "      --hover-fill-color: #FFFFFF;\n",
              "      --disabled-bg-color: #3B4455;\n",
              "      --disabled-fill-color: #666;\n",
              "  }\n",
              "\n",
              "  .colab-df-quickchart {\n",
              "    background-color: var(--bg-color);\n",
              "    border: none;\n",
              "    border-radius: 50%;\n",
              "    cursor: pointer;\n",
              "    display: none;\n",
              "    fill: var(--fill-color);\n",
              "    height: 32px;\n",
              "    padding: 0;\n",
              "    width: 32px;\n",
              "  }\n",
              "\n",
              "  .colab-df-quickchart:hover {\n",
              "    background-color: var(--hover-bg-color);\n",
              "    box-shadow: 0 1px 2px rgba(60, 64, 67, 0.3), 0 1px 3px 1px rgba(60, 64, 67, 0.15);\n",
              "    fill: var(--button-hover-fill-color);\n",
              "  }\n",
              "\n",
              "  .colab-df-quickchart-complete:disabled,\n",
              "  .colab-df-quickchart-complete:disabled:hover {\n",
              "    background-color: var(--disabled-bg-color);\n",
              "    fill: var(--disabled-fill-color);\n",
              "    box-shadow: none;\n",
              "  }\n",
              "\n",
              "  .colab-df-spinner {\n",
              "    border: 2px solid var(--fill-color);\n",
              "    border-color: transparent;\n",
              "    border-bottom-color: var(--fill-color);\n",
              "    animation:\n",
              "      spin 1s steps(1) infinite;\n",
              "  }\n",
              "\n",
              "  @keyframes spin {\n",
              "    0% {\n",
              "      border-color: transparent;\n",
              "      border-bottom-color: var(--fill-color);\n",
              "      border-left-color: var(--fill-color);\n",
              "    }\n",
              "    20% {\n",
              "      border-color: transparent;\n",
              "      border-left-color: var(--fill-color);\n",
              "      border-top-color: var(--fill-color);\n",
              "    }\n",
              "    30% {\n",
              "      border-color: transparent;\n",
              "      border-left-color: var(--fill-color);\n",
              "      border-top-color: var(--fill-color);\n",
              "      border-right-color: var(--fill-color);\n",
              "    }\n",
              "    40% {\n",
              "      border-color: transparent;\n",
              "      border-right-color: var(--fill-color);\n",
              "      border-top-color: var(--fill-color);\n",
              "    }\n",
              "    60% {\n",
              "      border-color: transparent;\n",
              "      border-right-color: var(--fill-color);\n",
              "    }\n",
              "    80% {\n",
              "      border-color: transparent;\n",
              "      border-right-color: var(--fill-color);\n",
              "      border-bottom-color: var(--fill-color);\n",
              "    }\n",
              "    90% {\n",
              "      border-color: transparent;\n",
              "      border-bottom-color: var(--fill-color);\n",
              "    }\n",
              "  }\n",
              "</style>\n",
              "\n",
              "  <script>\n",
              "    async function quickchart(key) {\n",
              "      const quickchartButtonEl =\n",
              "        document.querySelector('#' + key + ' button');\n",
              "      quickchartButtonEl.disabled = true;  // To prevent multiple clicks.\n",
              "      quickchartButtonEl.classList.add('colab-df-spinner');\n",
              "      try {\n",
              "        const charts = await google.colab.kernel.invokeFunction(\n",
              "            'suggestCharts', [key], {});\n",
              "      } catch (error) {\n",
              "        console.error('Error during call to suggestCharts:', error);\n",
              "      }\n",
              "      quickchartButtonEl.classList.remove('colab-df-spinner');\n",
              "      quickchartButtonEl.classList.add('colab-df-quickchart-complete');\n",
              "    }\n",
              "    (() => {\n",
              "      let quickchartButtonEl =\n",
              "        document.querySelector('#df-5446c2bb-d387-41e5-8cec-080f495409ce button');\n",
              "      quickchartButtonEl.style.display =\n",
              "        google.colab.kernel.accessAllowed ? 'block' : 'none';\n",
              "    })();\n",
              "  </script>\n",
              "</div>\n",
              "\n",
              "    </div>\n",
              "  </div>\n"
            ],
            "application/vnd.google.colaboratory.intrinsic+json": {
              "type": "dataframe",
              "variable_name": "df",
              "summary": "{\n  \"name\": \"df\",\n  \"rows\": 20000,\n  \"fields\": [\n    {\n      \"column\": \"user_id\",\n      \"properties\": {\n        \"dtype\": \"number\",\n        \"std\": 5773,\n        \"min\": 1,\n        \"max\": 20000,\n        \"num_unique_values\": 20000,\n        \"samples\": [\n          10651,\n          2042,\n          8669\n        ],\n        \"semantic_type\": \"\",\n        \"description\": \"\"\n      }\n    },\n    {\n      \"column\": \"install_date\",\n      \"properties\": {\n        \"dtype\": \"date\",\n        \"min\": \"2023-01-01 00:00:00\",\n        \"max\": \"2024-01-01 00:00:00\",\n        \"num_unique_values\": 366,\n        \"samples\": [\n          \"2023-07-09 00:00:00\",\n          \"2023-05-30 00:00:00\",\n          \"2023-04-06 00:00:00\"\n        ],\n        \"semantic_type\": \"\",\n        \"description\": \"\"\n      }\n    },\n    {\n      \"column\": \"last_active_date\",\n      \"properties\": {\n        \"dtype\": \"date\",\n        \"min\": \"2023-01-03 00:00:00\",\n        \"max\": \"2024-01-01 00:00:00\",\n        \"num_unique_values\": 357,\n        \"samples\": [\n          \"2023-05-28 00:00:00\",\n          \"2023-09-12 00:00:00\",\n          \"2023-04-20 00:00:00\"\n        ],\n        \"semantic_type\": \"\",\n        \"description\": \"\"\n      }\n    },\n    {\n      \"column\": \"subscription_type\",\n      \"properties\": {\n        \"dtype\": \"category\",\n        \"num_unique_values\": 2,\n        \"samples\": [\n          \"Pro\",\n          \"Free\"\n        ],\n        \"semantic_type\": \"\",\n        \"description\": \"\"\n      }\n    },\n    {\n      \"column\": \"country\",\n      \"properties\": {\n        \"dtype\": \"category\",\n        \"num_unique_values\": 7,\n        \"samples\": [\n          \"UK\",\n          \"India\"\n        ],\n        \"semantic_type\": \"\",\n        \"description\": \"\"\n      }\n    },\n    {\n      \"column\": \"total_sessions\",\n      \"properties\": {\n        \"dtype\": \"number\",\n        \"std\": 62,\n        \"min\": 1,\n        \"max\": 300,\n        \"num_unique_values\": 300,\n        \"samples\": [\n          136,\n          164\n        ],\n        \"semantic_type\": \"\",\n        \"description\": \"\"\n      }\n    },\n    {\n      \"column\": \"page_views\",\n      \"properties\": {\n        \"dtype\": \"number\",\n        \"std\": 244,\n        \"min\": 1,\n        \"max\": 1500,\n        \"num_unique_values\": 856,\n        \"samples\": [\n          1092,\n          385\n        ],\n        \"semantic_type\": \"\",\n        \"description\": \"\"\n      }\n    },\n    {\n      \"column\": \"download_clicks\",\n      \"properties\": {\n        \"dtype\": \"number\",\n        \"std\": 0,\n        \"min\": 0,\n        \"max\": 1,\n        \"num_unique_values\": 2,\n        \"samples\": [\n          0,\n          1\n        ],\n        \"semantic_type\": \"\",\n        \"description\": \"\"\n      }\n    },\n    {\n      \"column\": \"activation_status\",\n      \"properties\": {\n        \"dtype\": \"number\",\n        \"std\": 0,\n        \"min\": 0,\n        \"max\": 1,\n        \"num_unique_values\": 2,\n        \"samples\": [\n          0,\n          1\n        ],\n        \"semantic_type\": \"\",\n        \"description\": \"\"\n      }\n    },\n    {\n      \"column\": \"days_active\",\n      \"properties\": {\n        \"dtype\": \"number\",\n        \"std\": 80,\n        \"min\": 0,\n        \"max\": 364,\n        \"num_unique_values\": 361,\n        \"samples\": [\n          186,\n          58\n        ],\n        \"semantic_type\": \"\",\n        \"description\": \"\"\n      }\n    },\n    {\n      \"column\": \"pro_upgrade_date\",\n      \"properties\": {\n        \"dtype\": \"category\",\n        \"num_unique_values\": 338,\n        \"samples\": [\n          \"2023-11-28 00:00:00\",\n          \"2023-01-21 00:00:00\"\n        ],\n        \"semantic_type\": \"\",\n        \"description\": \"\"\n      }\n    },\n    {\n      \"column\": \"plan_type\",\n      \"properties\": {\n        \"dtype\": \"category\",\n        \"num_unique_values\": 4,\n        \"samples\": [\n          \"Basic\",\n          \"Enterprise\"\n        ],\n        \"semantic_type\": \"\",\n        \"description\": \"\"\n      }\n    },\n    {\n      \"column\": \"monthly_revenue\",\n      \"properties\": {\n        \"dtype\": \"number\",\n        \"std\": 26,\n        \"min\": 0,\n        \"max\": 99,\n        \"num_unique_values\": 4,\n        \"samples\": [\n          49,\n          29\n        ],\n        \"semantic_type\": \"\",\n        \"description\": \"\"\n      }\n    },\n    {\n      \"column\": \"churned\",\n      \"properties\": {\n        \"dtype\": \"number\",\n        \"std\": 0,\n        \"min\": 0,\n        \"max\": 1,\n        \"num_unique_values\": 2,\n        \"samples\": [\n          0,\n          1\n        ],\n        \"semantic_type\": \"\",\n        \"description\": \"\"\n      }\n    }\n  ]\n}"
            }
          },
          "metadata": {},
          "execution_count": 49
        }
      ]
    },
    {
      "cell_type": "markdown",
      "source": [
        "**1. Data Exploration**"
      ],
      "metadata": {
        "id": "cNnzm26nCVUw"
      }
    },
    {
      "cell_type": "code",
      "source": [
        "print(\"Missing Values Summary:\")\n",
        "print(df.isnull().sum())"
      ],
      "metadata": {
        "colab": {
          "base_uri": "https://localhost:8080/"
        },
        "id": "o-_uicTj-VUI",
        "outputId": "7743b399-14f4-4abd-aec7-ac826131b01a"
      },
      "execution_count": 50,
      "outputs": [
        {
          "output_type": "stream",
          "name": "stdout",
          "text": [
            "Missing Values Summary:\n",
            "user_id              0\n",
            "install_date         0\n",
            "last_active_date     0\n",
            "subscription_type    0\n",
            "country              0\n",
            "total_sessions       0\n",
            "page_views           0\n",
            "download_clicks      0\n",
            "activation_status    0\n",
            "days_active          0\n",
            "pro_upgrade_date     0\n",
            "plan_type            0\n",
            "monthly_revenue      0\n",
            "churned              0\n",
            "dtype: int64\n"
          ]
        }
      ]
    },
    {
      "cell_type": "code",
      "source": [
        "subscription_dist = df['subscription_type'].value_counts(normalize=True)\n",
        "print(\"\\nSubscription Distribution:\")\n",
        "print(subscription_dist)"
      ],
      "metadata": {
        "colab": {
          "base_uri": "https://localhost:8080/"
        },
        "id": "dKNNe1x7-iXf",
        "outputId": "78dbb781-2ed8-4045-8ff5-1922df3669d0"
      },
      "execution_count": 51,
      "outputs": [
        {
          "output_type": "stream",
          "name": "stdout",
          "text": [
            "\n",
            "Subscription Distribution:\n",
            "subscription_type\n",
            "Free    0.79855\n",
            "Pro     0.20145\n",
            "Name: proportion, dtype: float64\n"
          ]
        }
      ]
    },
    {
      "cell_type": "markdown",
      "source": [
        "**2. User Engagement Analysis**"
      ],
      "metadata": {
        "id": "d23W9lp0Ck7Q"
      }
    },
    {
      "cell_type": "code",
      "source": [
        "avg_sessions = df.groupby('subscription_type')['total_sessions'].mean()\n",
        "print(\"\\nAverage Sessions:\")\n",
        "print(avg_sessions)"
      ],
      "metadata": {
        "colab": {
          "base_uri": "https://localhost:8080/"
        },
        "id": "LghXvvr9_wBA",
        "outputId": "ce57db38-4cf8-4c95-cb06-7b6230ff25f3"
      },
      "execution_count": 52,
      "outputs": [
        {
          "output_type": "stream",
          "name": "stdout",
          "text": [
            "\n",
            "Average Sessions:\n",
            "subscription_type\n",
            "Free     76.081210\n",
            "Pro     154.677836\n",
            "Name: total_sessions, dtype: float64\n"
          ]
        }
      ]
    },
    {
      "cell_type": "code",
      "source": [
        "top_users = df[['user_id', 'total_sessions']].sort_values('total_sessions', ascending=False).head(5)\n",
        "print(\"\\nTop 5 Active Users:\")\n",
        "print(top_users)"
      ],
      "metadata": {
        "colab": {
          "base_uri": "https://localhost:8080/"
        },
        "id": "lRBzEdQS_7Z_",
        "outputId": "a0b9561a-59e4-44c5-84b3-7f8f98e1b502"
      },
      "execution_count": 53,
      "outputs": [
        {
          "output_type": "stream",
          "name": "stdout",
          "text": [
            "\n",
            "Top 5 Active Users:\n",
            "       user_id  total_sessions\n",
            "15351    15352             300\n",
            "3965      3966             300\n",
            "12849    12850             300\n",
            "12191    12192             300\n",
            "2456      2457             300\n"
          ]
        }
      ]
    },
    {
      "cell_type": "code",
      "source": [
        "country_engagement = df.groupby('country')['total_sessions'].sum().nlargest(5)\n",
        "print(\"\\nTop 5 Countries by Engagement:\")\n",
        "print(country_engagement)"
      ],
      "metadata": {
        "colab": {
          "base_uri": "https://localhost:8080/"
        },
        "id": "_MKQvKjBAYHw",
        "outputId": "ac62aee8-c3e6-4f3e-d822-a5381425d253"
      },
      "execution_count": 54,
      "outputs": [
        {
          "output_type": "stream",
          "name": "stdout",
          "text": [
            "\n",
            "Top 5 Countries by Engagement:\n",
            "country\n",
            "India      272202\n",
            "Germany    266319\n",
            "Canada     264217\n",
            "USA        261635\n",
            "France     259495\n",
            "Name: total_sessions, dtype: int64\n"
          ]
        }
      ]
    },
    {
      "cell_type": "markdown",
      "source": [
        "**3. Curun Analysis**"
      ],
      "metadata": {
        "id": "AASbEejXANgg"
      }
    },
    {
      "cell_type": "code",
      "source": [
        "churn_rates = df.groupby('subscription_type')['churned'].mean()\n",
        "print(\"\\nChurn Rates:\")\n",
        "print(churn_rates)"
      ],
      "metadata": {
        "colab": {
          "base_uri": "https://localhost:8080/"
        },
        "id": "QKleZI9WAEU4",
        "outputId": "2b83626a-f314-431e-ba7f-d6fbd40894cd"
      },
      "execution_count": 55,
      "outputs": [
        {
          "output_type": "stream",
          "name": "stdout",
          "text": [
            "\n",
            "Churn Rates:\n",
            "subscription_type\n",
            "Free    0.285956\n",
            "Pro     0.282452\n",
            "Name: churned, dtype: float64\n"
          ]
        }
      ]
    },
    {
      "cell_type": "code",
      "source": [
        "corr_matrix = df[['churned', 'total_sessions', 'days_active', 'page_views']].corr()\n",
        "print(\"\\nCorrelation Matrix:\")\n",
        "print(corr_matrix['churned'].sort_values(ascending=False))"
      ],
      "metadata": {
        "colab": {
          "base_uri": "https://localhost:8080/"
        },
        "id": "5bPi_pqMAkIw",
        "outputId": "ea961f33-f036-4d55-ec50-a2e077577487"
      },
      "execution_count": 56,
      "outputs": [
        {
          "output_type": "stream",
          "name": "stdout",
          "text": [
            "\n",
            "Correlation Matrix:\n",
            "churned           1.000000\n",
            "total_sessions   -0.000273\n",
            "page_views       -0.005605\n",
            "days_active      -0.617213\n",
            "Name: churned, dtype: float64\n"
          ]
        }
      ]
    },
    {
      "cell_type": "markdown",
      "source": [
        "**4. Revenue & Upgrade Analysis**"
      ],
      "metadata": {
        "id": "NCnOzvluAzVx"
      }
    },
    {
      "cell_type": "code",
      "source": [
        "free_users = df[df['subscription_type'] == 'Free']\n",
        "upgrade_rate = free_users['pro_upgrade_date'].notna().mean()\n",
        "print(f\"\\nUpgrade Rate from Free to Pro: {upgrade_rate:.1%}\")"
      ],
      "metadata": {
        "colab": {
          "base_uri": "https://localhost:8080/"
        },
        "id": "wI-1N0MrAqMZ",
        "outputId": "73f81646-a90f-4ea8-b0d8-6fbfff6a718a"
      },
      "execution_count": 57,
      "outputs": [
        {
          "output_type": "stream",
          "name": "stdout",
          "text": [
            "\n",
            "Upgrade Rate from Free to Pro: 100.0%\n"
          ]
        }
      ]
    },
    {
      "cell_type": "code",
      "source": [
        "pro_users = df[df['subscription_type'] == 'Pro']\n",
        "total_revenue = pro_users['monthly_revenue'].sum()\n",
        "revenue_by_plan = pro_users.groupby('plan_type')['monthly_revenue'].sum()\n",
        "print(f\"\\nTotal Monthly Revenue: ${total_revenue:,.2f}\")\n",
        "print(\"\\nRevenue by Plan:\")\n",
        "print(revenue_by_plan)\n"
      ],
      "metadata": {
        "colab": {
          "base_uri": "https://localhost:8080/"
        },
        "id": "UvpVeyzOA-ep",
        "outputId": "c91e5c96-7fd8-449e-fa31-342f8f56ae9f"
      },
      "execution_count": 58,
      "outputs": [
        {
          "output_type": "stream",
          "name": "stdout",
          "text": [
            "\n",
            "Total Monthly Revenue: $235,481.00\n",
            "\n",
            "Revenue by Plan:\n",
            "plan_type\n",
            "Basic         80339\n",
            "Enterprise    78764\n",
            "Standard      76378\n",
            "Name: monthly_revenue, dtype: int64\n"
          ]
        }
      ]
    },
    {
      "cell_type": "code",
      "source": [
        "upgrade_time_analysis = df.groupby(\"country\")[\"days_active\"].mean()\n",
        "print(\"Average Days to Upgrade by Country:\\n\", upgrade_time_analysis)"
      ],
      "metadata": {
        "colab": {
          "base_uri": "https://localhost:8080/"
        },
        "id": "QNY2QRpTFaNr",
        "outputId": "f5090e9f-63be-4265-e834-d5d7334a3e33"
      },
      "execution_count": 65,
      "outputs": [
        {
          "output_type": "stream",
          "name": "stdout",
          "text": [
            "Average Days to Upgrade by Country:\n",
            " country\n",
            "Australia    92.472929\n",
            "Canada       89.582615\n",
            "France       92.510004\n",
            "Germany      91.605932\n",
            "India        92.535003\n",
            "UK           88.490066\n",
            "USA          91.817065\n",
            "Name: days_active, dtype: float64\n"
          ]
        }
      ]
    },
    {
      "cell_type": "code",
      "source": [
        "plt.figure(figsize=(15, 10))"
      ],
      "metadata": {
        "colab": {
          "base_uri": "https://localhost:8080/",
          "height": 52
        },
        "id": "7Ugv3VrfBQg3",
        "outputId": "9d89aaa5-9083-4094-d981-b380f0754ea5"
      },
      "execution_count": 59,
      "outputs": [
        {
          "output_type": "execute_result",
          "data": {
            "text/plain": [
              "<Figure size 1500x1000 with 0 Axes>"
            ]
          },
          "metadata": {},
          "execution_count": 59
        },
        {
          "output_type": "display_data",
          "data": {
            "text/plain": [
              "<Figure size 1500x1000 with 0 Axes>"
            ]
          },
          "metadata": {}
        }
      ]
    },
    {
      "cell_type": "code",
      "source": [
        "plt.subplot(2, 2, 1)\n",
        "subscription_dist.plot.pie(autopct='%1.1f%%')\n",
        "plt.title('User Subscription Distribution')"
      ],
      "metadata": {
        "colab": {
          "base_uri": "https://localhost:8080/",
          "height": 244
        },
        "id": "mHxG8wHZBX5o",
        "outputId": "2fb84608-9df3-4491-d95f-1c3ac768de0f"
      },
      "execution_count": 60,
      "outputs": [
        {
          "output_type": "execute_result",
          "data": {
            "text/plain": [
              "Text(0.5, 1.0, 'User Subscription Distribution')"
            ]
          },
          "metadata": {},
          "execution_count": 60
        },
        {
          "output_type": "display_data",
          "data": {
            "text/plain": [
              "<Figure size 640x480 with 1 Axes>"
            ],
            "image/png": "[encoded data removed]"
          },
          "metadata": {}
        }
      ]
    },
    {
      "cell_type": "code",
      "source": [
        "plt.subplot(2, 2, 2)\n",
        "country_engagement.plot.bar()\n",
        "plt.title('Top 5 Countries by Engagement')\n",
        "plt.ylabel('Total Sessions')"
      ],
      "metadata": {
        "colab": {
          "base_uri": "https://localhost:8080/",
          "height": 337
        },
        "id": "NYxUF7PvBaJg",
        "outputId": "1a17cded-a869-4e86-b1ff-0a24a6206949"
      },
      "execution_count": 61,
      "outputs": [
        {
          "output_type": "execute_result",
          "data": {
            "text/plain": [
              "Text(0, 0.5, 'Total Sessions')"
            ]
          },
          "metadata": {},
          "execution_count": 61
        },
        {
          "output_type": "display_data",
          "data": {
            "text/plain": [
              "<Figure size 640x480 with 1 Axes>"
            ],
            "image/png": "[encoded data removed]"
          },
          "metadata": {}
        }
      ]
    },
    {
      "cell_type": "code",
      "source": [
        "plt.subplot(2, 2, 3)\n",
        "churn_rates.plot.bar()\n",
        "plt.title('Churn Rates by Subscription Type')\n",
        "plt.ylabel('Churn Rate')"
      ],
      "metadata": {
        "colab": {
          "base_uri": "https://localhost:8080/",
          "height": 303
        },
        "id": "BVfhaJpTBlAg",
        "outputId": "e9a6d55a-8412-4df7-c0a9-9d9bb8099be7"
      },
      "execution_count": 62,
      "outputs": [
        {
          "output_type": "execute_result",
          "data": {
            "text/plain": [
              "Text(0, 0.5, 'Churn Rate')"
            ]
          },
          "metadata": {},
          "execution_count": 62
        },
        {
          "output_type": "display_data",
          "data": {
            "text/plain": [
              "<Figure size 640x480 with 1 Axes>"
            ],
            "image/png": "[encoded data removed]"
          },
          "metadata": {}
        }
      ]
    },
    {
      "cell_type": "code",
      "source": [
        "plt.subplot(2, 2, 4)\n",
        "revenue_by_plan.plot.bar()\n",
        "plt.title('Revenue by Pro Plan Type')\n",
        "plt.ylabel('Monthly Revenue ($)')\n",
        "\n",
        "plt.tight_layout()\n",
        "plt.show()"
      ],
      "metadata": {
        "colab": {
          "base_uri": "https://localhost:8080/",
          "height": 316
        },
        "id": "rapp3uclBvdA",
        "outputId": "aab04a28-bd60-4ec8-cf15-8a12201b44b1"
      },
      "execution_count": 63,
      "outputs": [
        {
          "output_type": "display_data",
          "data": {
            "text/plain": [
              "<Figure size 640x480 with 1 Axes>"
            ],
            "image/png": "[encoded data removed]"
          },
          "metadata": {}
        }
      ]
    },
    {
      "cell_type": "code",
      "source": [
        "\n",
        "def generate_recommendations(df, churn_rates, country_engagement, upgrade_rate, revenue_by_plan):\n",
        "    # Strategy templates\n",
        "    strategies = {\n",
        "        'reduce_churn': [\n",
        "            f\"1. Implement gamified engagement program targeting users with <{df['total_sessions'].quantile(0.25):.0f} sessions (current churn: {churn_rates['Free']:.1%})\",\n",
        "            f\"2. Develop email re-engagement campaign for users inactive >{df['days_active'].quantile(0.1):.0f} days\",\n",
        "            f\"3. Offer Pro trial periods to Free users with >{df['page_views'].quantile(0.75):.0f} page views\"\n",
        "        ],\n",
        "        'increase_conversions': [\n",
        "            f\"1. Highlight '{revenue_by_plan.idxmax()}' plan benefits in {country_engagement.index[:2].tolist()} (current upgrade rate: {upgrade_rate:.1%})\",\n",
        "            \"2. Create limited-time discount offers tied to user engagement milestones\"\n",
        "        ],\n",
        "        'market_expansion': [\n",
        "            f\"1. Prioritize {country_engagement.index[0]} (engagement leader) with localized marketing\",\n",
        "            f\"2. Target {df[df['subscription_type'] == 'Pro'].groupby('country').size().idxmax()} for Pro upgrades (existing conversion leader)\"\n",
        "        ]\n",
        "    }\n",
        "\n",
        "    # Generate recommendation report\n",
        "    report = \"\"\"\n",
        "    Actionable Growth Recommendations\n",
        "    =================================\n",
        "\n",
        "    Reduce Churn Strategies:\n",
        "    ------------------------\n",
        "    {}\n",
        "\n",
        "    Increase Conversions Strategies:\n",
        "    --------------------------------\n",
        "    {}\n",
        "\n",
        "    Market Expansion Opportunities:\n",
        "    -------------------------------\n",
        "    {}\n",
        "    \"\"\".format('\\n    '.join(strategies['reduce_churn']),\n",
        "             '\\n    '.join(strategies['increase_conversions']),\n",
        "             '\\n    '.join(strategies['market_expansion']))\n",
        "\n",
        "    return report\n",
        "\n",
        "# Generate visual support\n",
        "def create_strategy_visualizations(df, churn_rates, country_engagement):\n",
        "    plt.figure(figsize=(15, 10))\n",
        "\n",
        "    # Churn Factors Visualization\n",
        "    plt.subplot(2, 2, 1)\n",
        "    sns.barplot(x=df[['total_sessions', 'days_active', 'page_views']].corrwith(df['churned']).values,\n",
        "                y=['Sessions', 'Active Days', 'Page Views'])\n",
        "    plt.title('Churn Correlation Factors')\n",
        "    plt.xlabel('Correlation Coefficient')\n",
        "\n",
        "    # Conversion Opportunity Map\n",
        "    plt.subplot(2, 2, 2)\n",
        "    country_engagement.head(5).plot.pie(autopct='%1.1f%%')\n",
        "    plt.title('Top Engagement Markets')\n",
        "\n",
        "    # Pro User Distribution\n",
        "    plt.subplot(2, 2, 3)\n",
        "    df[df['subscription_type'] == 'Pro']['country'].value_counts().head(5).plot.bar()\n",
        "    plt.title('Top Pro User Countries')\n",
        "\n",
        "    # Engagement-Churn Relationship\n",
        "    plt.subplot(2, 2, 4)\n",
        "    sns.boxplot(x='churned', y='total_sessions', data=df[df['subscription_type'] == 'Free'])\n",
        "    plt.title('Free User Engagement vs Churn')\n",
        "    plt.xlabel('Churned')\n",
        "    plt.ylabel('Sessions')\n",
        "\n",
        "    plt.tight_layout()\n",
        "    plt.show()\n",
        "\n",
        "# Generate and display recommendations\n",
        "recommendations = generate_recommendations(\n",
        "    df,\n",
        "    churn_rates,\n",
        "    country_engagement,\n",
        "    upgrade_rate,\n",
        "    revenue_by_plan\n",
        ")\n",
        "\n",
        "print(recommendations)\n",
        "create_strategy_visualizations(df, churn_rates, country_engagement)"
      ],
      "metadata": {
        "colab": {
          "base_uri": "https://localhost:8080/",
          "height": 1000
        },
        "id": "XNS9e5hYLrlJ",
        "outputId": "7a1198cd-a0b5-4ee5-ed38-a3b2e4a45be5"
      },
      "execution_count": 70,
      "outputs": [
        {
          "output_type": "stream",
          "name": "stdout",
          "text": [
            "\n",
            "    Actionable Growth Recommendations\n",
            "    =================================\n",
            "    \n",
            "    Reduce Churn Strategies:\n",
            "    ------------------------\n",
            "    1. Implement gamified engagement program targeting users with <44 sessions (current churn: 28.6%)\n",
            "    2. Develop email re-engagement campaign for users inactive >7 days\n",
            "    3. Offer Pro trial periods to Free users with >396 page views\n",
            "    \n",
            "    Increase Conversions Strategies:\n",
            "    --------------------------------\n",
            "    1. Highlight 'Basic' plan benefits in ['India', 'Germany'] (current upgrade rate: 100.0%)\n",
            "    2. Create limited-time discount offers tied to user engagement milestones\n",
            "    \n",
            "    Market Expansion Opportunities:\n",
            "    -------------------------------\n",
            "    1. Prioritize India (engagement leader) with localized marketing\n",
            "    2. Target India for Pro upgrades (existing conversion leader)\n",
            "    \n"
          ]
        },
        {
          "output_type": "display_data",
          "data": {
            "text/plain": [
              "<Figure size 1500x1000 with 4 Axes>"
            ],
            "image/png": "[encoded data removed]"
          },
          "metadata": {}
        }
      ]
    },
    {
      "cell_type": "code",
      "source": [
        "from scipy.stats import chi2_contingency\n",
        "observed = [[150, 1000],  # Original conversions\n",
        "            [165, 1000]]  # +10% improvement\n",
        "\n",
        "chi2, p, dof, expected = chi2_contingency(observed)\n",
        "print(f\"\\nA/B Test Results - p-value: {p:.4f}\")\n",
        "if p < 0.05:\n",
        "    print(\"Significant difference detected\")\n",
        "else:\n",
        "    print(\"No significant difference detected\")"
      ],
      "metadata": {
        "colab": {
          "base_uri": "https://localhost:8080/"
        },
        "id": "M1J5aPhBByIP",
        "outputId": "b586429e-f2c8-4a3f-ecbc-022eaae21fbe"
      },
      "execution_count": 64,
      "outputs": [
        {
          "output_type": "stream",
          "name": "stdout",
          "text": [
            "\n",
            "A/B Test Results - p-value: 0.4685\n",
            "No significant difference detected\n"
          ]
        }
      ]
    },
    {
      "cell_type": "code",
      "source": [
        "\n",
        "kpis = {\n",
        "    \"Conversion Rate\": \"Percentage of Free users upgrading to Pro\",\n",
        "    \"Churn Rate\": \"Percentage of users who cancel their Pro subscription\",\n",
        "    \"Average Revenue per User (ARPU)\": \"Total revenue divided by the number of active Pro users\"\n",
        "}\n",
        "print(\"Key Performance Indicators (KPIs):\\n\", kpis)\n",
        "\n",
        "\n",
        "growth_strategies = {\n",
        "    \"Improve Free-to-Pro Conversion\": \"Enhance landing page, optimize onboarding, and run targeted promotions.\",\n",
        "    \"Reduce Churn via Engagement\": \"Offer personalized emails, proactive support, and loyalty incentives.\"\n",
        "}\n",
        "print(\"\\nGrowth Strategies:\\n\", growth_strategies)\n",
        "\n",
        "success_metrics = {\n",
        "    \"Increase in Conversion Rate\": \"Monitor uplift in Free-to-Pro conversions within 3 months.\",\n",
        "    \"Decrease in Churn Rate\": \"Track reduction in churned users over time.\",\n",
        "    \"Higher User Retention & Revenue\": \"Compare engagement levels, renewal rates, and ARPU growth.\"\n",
        "}\n",
        "print(\"\\nHow to Measure Success:\\n\", success_metrics)\n"
      ],
      "metadata": {
        "colab": {
          "base_uri": "https://localhost:8080/"
        },
        "id": "JcQlBNzmGaqh",
        "outputId": "5d927185-c3f6-4ce9-8433-0c8b54869067"
      },
      "execution_count": 68,
      "outputs": [
        {
          "output_type": "stream",
          "name": "stdout",
          "text": [
            "Key Performance Indicators (KPIs):\n",
            " {'Conversion Rate': 'Percentage of Free users upgrading to Pro', 'Churn Rate': 'Percentage of users who cancel their Pro subscription', 'Average Revenue per User (ARPU)': 'Total revenue divided by the number of active Pro users'}\n",
            "\n",
            "Growth Strategies:\n",
            " {'Improve Free-to-Pro Conversion': 'Enhance landing page, optimize onboarding, and run targeted promotions.', 'Reduce Churn via Engagement': 'Offer personalized emails, proactive support, and loyalty incentives.'}\n",
            "\n",
            "How to Measure Success:\n",
            " {'Increase in Conversion Rate': 'Monitor uplift in Free-to-Pro conversions within 3 months.', 'Decrease in Churn Rate': 'Track reduction in churned users over time.', 'Higher User Retention & Revenue': 'Compare engagement levels, renewal rates, and ARPU growth.'}\n"
          ]
        }
      ]
    },
    {
      "cell_type": "code",
      "source": [
        "def growth_strategy_recommendations(df, churn_rates, country_engagement, upgrade_rate):\n",
        "    # Calculate key metrics\n",
        "    current_churn = churn_rates['Free']\n",
        "    current_conversion = upgrade_rate\n",
        "    arpu = df[df['subscription_type'] == 'Pro']['monthly_revenue'].mean()\n",
        "\n",
        "    # KPI Definitions\n",
        "    kpis = {\n",
        "        'Monthly Churn Rate': {\n",
        "            'current': current_churn,\n",
        "            'target': current_churn * 0.85,  # 15% reduction target\n",
        "            'measure': 'Churned users / Total users'\n",
        "        },\n",
        "        'Free-to-Pro Conversion Rate': {\n",
        "            'current': current_conversion,\n",
        "            'target': current_conversion * 1.25,  # 25% increase target\n",
        "            'measure': 'Pro upgrades / Free users'\n",
        "        },\n",
        "        'ARPU (Average Revenue Per User)': {\n",
        "            'current': arpu,\n",
        "            'target': arpu * 1.2,  # 20% increase target\n",
        "            'measure': 'Total revenue / Pro users'\n",
        "        }\n",
        "    }\n",
        "\n",
        "    # Growth strategies\n",
        "    top_markets = country_engagement.index[:2].tolist()\n",
        "    pro_conversion_leader = df[df['subscription_type'] == 'Pro']['country'].value_counts().idxmax()\n",
        "\n",
        "    strategies = [\n",
        "        {\n",
        "            'name': f'Localized Pro Campaign in {top_markets[0]} & {top_markets[1]}',\n",
        "            'actions': [\n",
        "                \"Translate onboarding materials to local languages\",\n",
        "                \"Create region-specific feature bundles\",\n",
        "                \"Partner with local WordPress communities\"\n",
        "            ],\n",
        "            'success_metrics': {\n",
        "                'Target Conversion Increase': '25%',\n",
        "                'KPI Impact': ['Free-to-Pro Conversion Rate', 'ARPU']\n",
        "            }\n",
        "        },\n",
        "        {\n",
        "            'name': 'Mid-Tier Plan Development',\n",
        "            'actions': [\n",
        "                \"Analyze feature usage patterns in high-churn segment\",\n",
        "                \"Price between Basic and Enterprise plans\",\n",
        "                \"Offer limited-time migration offers\"\n",
        "            ],\n",
        "            'success_metrics': {\n",
        "                'Target Churn Reduction': '15%',\n",
        "                'KPI Impact': ['Monthly Churn Rate', 'ARPU']\n",
        "            }\n",
        "        }\n",
        "    ]\n",
        "\n",
        "    # Generate report\n",
        "    report = f\"\"\"\n",
        "    Growth Strategy & KPI Recommendations\n",
        "    ======================================\n",
        "\n",
        "    Key Performance Indicators (KPIs):\n",
        "    -----------------------------------\n",
        "    1. {list(kpis.keys())[0]}\n",
        "       - Current: {kpis['Monthly Churn Rate']['current']:.1%}\n",
        "       - Target: {kpis['Monthly Churn Rate']['target']:.1%}\n",
        "       - Measurement: {kpis['Monthly Churn Rate']['measure']}\n",
        "\n",
        "    2. {list(kpis.keys())[1]}\n",
        "       - Current: {kpis['Free-to-Pro Conversion Rate']['current']:.1%}\n",
        "       - Target: {kpis['Free-to-Pro Conversion Rate']['target']:.1%}\n",
        "       - Measurement: {kpis['Free-to-Pro Conversion Rate']['measure']}\n",
        "\n",
        "    3. {list(kpis.keys())[2]}\n",
        "       - Current: ${kpis['ARPU (Average Revenue Per User)']['current']:.2f}\n",
        "       - Target: ${kpis['ARPU (Average Revenue Per User)']['target']:.2f}\n",
        "       - Measurement: {kpis['ARPU (Average Revenue Per User)']['measure']}\n",
        "\n",
        "    Actionable Growth Strategies:\n",
        "    -----------------------------\n",
        "    1. {strategies[0]['name']}\n",
        "       Actions:\n",
        "       - {strategies[0]['actions'][0]}\n",
        "       - {strategies[0]['actions'][1]}\n",
        "       - {strategies[0]['actions'][2]}\n",
        "       Success Metrics:\n",
        "       - {strategies[0]['success_metrics']['Target Conversion Increase']} conversion increase\n",
        "       - Impacts KPIs: {', '.join(strategies[0]['success_metrics']['KPI Impact'])}\n",
        "\n",
        "    2. {strategies[1]['name']}\n",
        "       Actions:\n",
        "       - {strategies[1]['actions'][0]}\n",
        "       - {strategies[1]['actions'][1]}\n",
        "       - {strategies[1]['actions'][2]}\n",
        "       Success Metrics:\n",
        "       - {strategies[1]['success_metrics']['Target Churn Reduction']} churn reduction\n",
        "       - Impacts KPIs: {', '.join(strategies[1]['success_metrics']['KPI Impact'])}\n",
        "\n",
        "    Measurement Framework:\n",
        "    ----------------------\n",
        "    - Weekly tracking of KPI progress vs. targets\n",
        "    - A/B test new features with 10% user segments\n",
        "    - Monthly cohort analysis of converted users\n",
        "    - Quarterly customer satisfaction surveys\n",
        "    \"\"\"\n",
        "\n",
        "    # Create KPI tracking visualization\n",
        "    plt.figure(figsize=(10, 6))\n",
        "    kpi_df = pd.DataFrame(kpis).T\n",
        "    kpi_df[['current', 'target']].plot(kind='bar',\n",
        "                                      title='KPI Current vs Target',\n",
        "                                      ylabel='Value',\n",
        "                                      rot=15)\n",
        "    plt.tight_layout()\n",
        "    plt.show()\n",
        "\n",
        "    return report\n",
        "\n",
        "# Generate and display recommendations\n",
        "strategy_report = growth_strategy_recommendations(df, churn_rates, country_engagement, upgrade_rate)\n",
        "print(strategy_report)"
      ],
      "metadata": {
        "colab": {
          "base_uri": "https://localhost:8080/",
          "height": 1000
        },
        "id": "iJ4bPURoKstf",
        "outputId": "dd184b21-f2e4-4631-b50f-f2c21fb785a1"
      },
      "execution_count": 69,
      "outputs": [
        {
          "output_type": "display_data",
          "data": {
            "text/plain": [
              "<Figure size 1000x600 with 0 Axes>"
            ]
          },
          "metadata": {}
        },
        {
          "output_type": "display_data",
          "data": {
            "text/plain": [
              "<Figure size 640x480 with 1 Axes>"
            ],
            "image/png": "[encoded data removed]"
          },
          "metadata": {}
        },
        {
          "output_type": "stream",
          "name": "stdout",
          "text": [
            "\n",
            "    Growth Strategy & KPI Recommendations\n",
            "    ======================================\n",
            "    \n",
            "    Key Performance Indicators (KPIs):\n",
            "    -----------------------------------\n",
            "    1. Monthly Churn Rate\n",
            "       - Current: 28.6%\n",
            "       - Target: 24.3%\n",
            "       - Measurement: Churned users / Total users\n",
            "    \n",
            "    2. Free-to-Pro Conversion Rate\n",
            "       - Current: 100.0%\n",
            "       - Target: 125.0%\n",
            "       - Measurement: Pro upgrades / Free users\n",
            "    \n",
            "    3. ARPU (Average Revenue Per User)\n",
            "       - Current: $58.45\n",
            "       - Target: $70.14\n",
            "       - Measurement: Total revenue / Pro users\n",
            "    \n",
            "    Actionable Growth Strategies:\n",
            "    -----------------------------\n",
            "    1. Localized Pro Campaign in India & Germany\n",
            "       Actions:\n",
            "       - Translate onboarding materials to local languages\n",
            "       - Create region-specific feature bundles\n",
            "       - Partner with local WordPress communities\n",
            "       Success Metrics:\n",
            "       - 25% conversion increase\n",
            "       - Impacts KPIs: Free-to-Pro Conversion Rate, ARPU\n",
            "    \n",
            "    2. Mid-Tier Plan Development\n",
            "       Actions:\n",
            "       - Analyze feature usage patterns in high-churn segment\n",
            "       - Price between Basic and Enterprise plans\n",
            "       - Offer limited-time migration offers\n",
            "       Success Metrics:\n",
            "       - 15% churn reduction\n",
            "       - Impacts KPIs: Monthly Churn Rate, ARPU\n",
            "    \n",
            "    Measurement Framework:\n",
            "    ----------------------\n",
            "    - Weekly tracking of KPI progress vs. targets\n",
            "    - A/B test new features with 10% user segments\n",
            "    - Monthly cohort analysis of converted users\n",
            "    - Quarterly customer satisfaction surveys\n",
            "    \n"
          ]
        }
      ]
    }
  ]
}